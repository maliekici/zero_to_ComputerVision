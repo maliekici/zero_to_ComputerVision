{
  "nbformat": 4,
  "nbformat_minor": 0,
  "metadata": {
    "colab": {
      "provenance": [],
      "collapsed_sections": [],
      "include_colab_link": true
    },
    "kernelspec": {
      "name": "python3",
      "display_name": "Python 3"
    }
  },
  "cells": [
    {
      "cell_type": "markdown",
      "metadata": {
        "id": "view-in-github",
        "colab_type": "text"
      },
      "source": [
        "<a href=\"https://colab.research.google.com/github/maliekici/zero_to_ComputerVision/blob/main/lectures/L11contours_drawing_hierarchy_and_modes.ipynb\" target=\"_parent\"><img src=\"https://colab.research.google.com/assets/colab-badge.svg\" alt=\"Open In Colab\"/></a>"
      ]
    },
    {
      "cell_type": "markdown",
      "metadata": {
        "id": "oQXrIyd1H9OH"
      },
      "source": [
        "\n",
        "# **Contours**\n",
        "\n",
        "####**In this lesson we'll learn:**\n",
        "1. Using findContours\n",
        "2. Drawing Contours\n",
        "3. Hierachy of Contours\n",
        "4. Contouring Modes (Simple vs Approx) "
      ]
    },
    {
      "cell_type": "code",
      "metadata": {
        "id": "Vwex3q_7G6ME",
        "colab": {
          "base_uri": "https://localhost:8080/"
        },
        "outputId": "07ae779d-e9e7-4c24-c590-252b0c5f3e61"
      },
      "source": [
        "# Our Setup, Import Libaries, Create our Imshow Function and Download our Images\n",
        "import cv2\n",
        "import numpy as np\n",
        "from matplotlib import pyplot as plt\n",
        "\n",
        "# Define our imshow function \n",
        "def imshow(title = \"Image\", image = None, size = 10):\n",
        "    w, h = image.shape[0], image.shape[1]\n",
        "    aspect_ratio = w/h\n",
        "    plt.figure(figsize=(size * aspect_ratio,size))\n",
        "    plt.imshow(cv2.cvtColor(image, cv2.COLOR_BGR2RGB))\n",
        "    plt.title(title)\n",
        "    plt.show()\n",
        "\n",
        "# Download and unzip our images\n",
        "!wget https://moderncomputervision.s3.eu-west-2.amazonaws.com/images.zip\n",
        "!unzip -qq images.zip"
      ],
      "execution_count": 1,
      "outputs": [
        {
          "output_type": "stream",
          "name": "stdout",
          "text": [
            "--2022-10-12 17:16:54--  https://moderncomputervision.s3.eu-west-2.amazonaws.com/images.zip\n",
            "Resolving moderncomputervision.s3.eu-west-2.amazonaws.com (moderncomputervision.s3.eu-west-2.amazonaws.com)... 52.95.142.34\n",
            "Connecting to moderncomputervision.s3.eu-west-2.amazonaws.com (moderncomputervision.s3.eu-west-2.amazonaws.com)|52.95.142.34|:443... connected.\n",
            "HTTP request sent, awaiting response... 200 OK\n",
            "Length: 29586716 (28M) [application/zip]\n",
            "Saving to: ‘images.zip’\n",
            "\n",
            "images.zip          100%[===================>]  28.22M  13.1MB/s    in 2.2s    \n",
            "\n",
            "2022-10-12 17:16:57 (13.1 MB/s) - ‘images.zip’ saved [29586716/29586716]\n",
            "\n"
          ]
        }
      ]
    },
    {
      "cell_type": "markdown",
      "metadata": {
        "id": "zfEgMODosUoY"
      },
      "source": [
        "## **What are Contours?**\n",
        "Contours are continous lines or curves that bound or cover the full boundary of an object."
      ]
    },
    {
      "cell_type": "code",
      "metadata": {
        "id": "TZLOlABfG6Ob",
        "colab": {
          "base_uri": "https://localhost:8080/",
          "height": 87
        },
        "outputId": "bdb45c9a-8ee9-4620-d7cf-06b01baad4da"
      },
      "source": [
        "# Let's load a simple image license plate image\n",
        "image = cv2.imread('images/LP.jpg')\n",
        "imshow('Input Image', image) "
      ],
      "execution_count": 2,
      "outputs": [
        {
          "output_type": "display_data",
          "data": {
            "text/plain": [
              "<Figure size 146.25x720 with 1 Axes>"
            ],
            "image/png": "[encoded data removed]"
          },
          "metadata": {
            "needs_background": "light"
          }
        }
      ]
    },
    {
      "cell_type": "markdown",
      "metadata": {
        "id": "47lMgJ2nxWS1"
      },
      "source": [
        "#### **Applying cv2.findContours()**\n",
        "\n",
        "```cv2.findContours(image, Retrieval Mode, Approximation Method)```\n",
        "\n",
        "**Retrieval Modes**\n",
        "- **RETR_LIST** - Retrieves all the contours, but doesn't create any parent-child relationship. Parents and kids are equal under this rule, and they are just contours. ie they all belongs to same hierarchy level.\n",
        "- **RETR_EXTERNAL** - eturns only extreme outer flags. All child contours are left behind.\n",
        "- **RETR_CCOMP** - This flag retrieves all the contours and arranges them to a 2-level hierarchy. ie external contours of the object (ie its boundary) are placed in hierarchy-1. And the contours of holes inside object (if any) is placed in hierarchy-2. If any object inside it, its contour is placed again in hierarchy-1 only. And its hole in hierarchy-2 and so on.\n",
        "- **RETR_TREE** -  It retrieves all the contours and creates a full family hierarchy list. \n",
        "\n",
        "**Approximation Method Options**\n",
        "- cv2.CHAIN_APPROX_NONE – Stores all the points along the line(inefficient!)\n",
        "- cv2.CHAIN_APPROX_SIMPLE – Stores the end points of each line\n",
        "\n",
        "\n"
      ]
    },
    {
      "cell_type": "code",
      "metadata": {
        "id": "50V08ycKIhA9",
        "colab": {
          "base_uri": "https://localhost:8080/",
          "height": 174
        },
        "outputId": "629835ca-2635-4241-ae23-0d04caff559d"
      },
      "source": [
        "image = cv2.imread('images/LP.jpg')\n",
        "\n",
        "# Convert to Grayscale\n",
        "gray = cv2.cvtColor(image, cv2.COLOR_BGR2GRAY)\n",
        "\n",
        "_, th2 = cv2.threshold(gray, 0, 255, cv2.THRESH_BINARY + cv2.THRESH_OTSU)\n",
        "imshow('After thresholding', th2)\n",
        "\n",
        "# Finding Contours\n",
        "# Use a copy of your image e.g. edged.copy(), since findContours alters the image\n",
        "contours, hierarchy = cv2.findContours(th2, cv2.RETR_LIST, cv2.CHAIN_APPROX_NONE)\n",
        "\n",
        "# Draw all contours, note this overwrites the input image (inplace operation)\n",
        "# Use '-1' as the 3rd parameter to draw all\n",
        "cv2.drawContours(image, contours, -1, (0,255,0), thickness = 2)\n",
        "imshow('Contours overlaid on original image', image)\n",
        "\n",
        "print(\"Number of Contours found = \" + str(len(contours)))\n"
      ],
      "execution_count": 3,
      "outputs": [
        {
          "output_type": "display_data",
          "data": {
            "text/plain": [
              "<Figure size 146.25x720 with 1 Axes>"
            ],
            "image/png": "[encoded data removed]"
          },
          "metadata": {
            "needs_background": "light"
          }
        },
        {
          "output_type": "display_data",
          "data": {
            "text/plain": [
              "<Figure size 146.25x720 with 1 Axes>"
            ],
            "image/png": "[encoded data removed]"
          },
          "metadata": {
            "needs_background": "light"
          }
        },
        {
          "output_type": "stream",
          "name": "stdout",
          "text": [
            "Number of Contours found = 38\n"
          ]
        }
      ]
    },
    {
      "cell_type": "code",
      "metadata": {
        "id": "gPlVs7kzCwiM",
        "colab": {
          "base_uri": "https://localhost:8080/"
        },
        "outputId": "ec75c9ab-3ceb-434b-d585-b021a056eaa4"
      },
      "source": [
        "contours[0]"
      ],
      "execution_count": 4,
      "outputs": [
        {
          "output_type": "execute_result",
          "data": {
            "text/plain": [
              "array([[[564, 112]],\n",
              "\n",
              "       [[563, 113]],\n",
              "\n",
              "       [[562, 113]],\n",
              "\n",
              "       [[561, 113]],\n",
              "\n",
              "       [[560, 113]],\n",
              "\n",
              "       [[559, 113]],\n",
              "\n",
              "       [[558, 113]],\n",
              "\n",
              "       [[557, 113]],\n",
              "\n",
              "       [[556, 113]],\n",
              "\n",
              "       [[555, 113]],\n",
              "\n",
              "       [[554, 113]],\n",
              "\n",
              "       [[553, 113]],\n",
              "\n",
              "       [[552, 113]],\n",
              "\n",
              "       [[551, 113]],\n",
              "\n",
              "       [[550, 113]],\n",
              "\n",
              "       [[549, 113]],\n",
              "\n",
              "       [[548, 113]],\n",
              "\n",
              "       [[547, 113]],\n",
              "\n",
              "       [[546, 113]],\n",
              "\n",
              "       [[545, 113]],\n",
              "\n",
              "       [[544, 113]],\n",
              "\n",
              "       [[543, 113]],\n",
              "\n",
              "       [[542, 113]],\n",
              "\n",
              "       [[541, 113]],\n",
              "\n",
              "       [[540, 113]],\n",
              "\n",
              "       [[539, 113]],\n",
              "\n",
              "       [[538, 113]],\n",
              "\n",
              "       [[537, 113]],\n",
              "\n",
              "       [[536, 113]],\n",
              "\n",
              "       [[535, 113]],\n",
              "\n",
              "       [[534, 113]],\n",
              "\n",
              "       [[533, 113]],\n",
              "\n",
              "       [[532, 113]],\n",
              "\n",
              "       [[531, 114]],\n",
              "\n",
              "       [[530, 114]],\n",
              "\n",
              "       [[529, 114]],\n",
              "\n",
              "       [[528, 114]],\n",
              "\n",
              "       [[527, 114]],\n",
              "\n",
              "       [[526, 114]],\n",
              "\n",
              "       [[525, 114]],\n",
              "\n",
              "       [[524, 114]],\n",
              "\n",
              "       [[523, 114]],\n",
              "\n",
              "       [[524, 114]],\n",
              "\n",
              "       [[525, 114]],\n",
              "\n",
              "       [[526, 114]],\n",
              "\n",
              "       [[527, 114]],\n",
              "\n",
              "       [[528, 114]],\n",
              "\n",
              "       [[529, 114]],\n",
              "\n",
              "       [[530, 114]],\n",
              "\n",
              "       [[531, 114]],\n",
              "\n",
              "       [[532, 114]],\n",
              "\n",
              "       [[533, 114]],\n",
              "\n",
              "       [[534, 114]],\n",
              "\n",
              "       [[535, 114]],\n",
              "\n",
              "       [[536, 114]],\n",
              "\n",
              "       [[537, 114]],\n",
              "\n",
              "       [[538, 114]],\n",
              "\n",
              "       [[539, 114]],\n",
              "\n",
              "       [[540, 114]],\n",
              "\n",
              "       [[541, 114]],\n",
              "\n",
              "       [[542, 114]],\n",
              "\n",
              "       [[543, 114]],\n",
              "\n",
              "       [[544, 114]],\n",
              "\n",
              "       [[545, 114]],\n",
              "\n",
              "       [[546, 114]],\n",
              "\n",
              "       [[547, 114]],\n",
              "\n",
              "       [[548, 114]],\n",
              "\n",
              "       [[549, 114]],\n",
              "\n",
              "       [[550, 114]],\n",
              "\n",
              "       [[551, 114]],\n",
              "\n",
              "       [[552, 114]],\n",
              "\n",
              "       [[553, 114]],\n",
              "\n",
              "       [[554, 114]],\n",
              "\n",
              "       [[555, 114]],\n",
              "\n",
              "       [[556, 114]],\n",
              "\n",
              "       [[557, 114]],\n",
              "\n",
              "       [[558, 114]],\n",
              "\n",
              "       [[559, 114]],\n",
              "\n",
              "       [[560, 114]],\n",
              "\n",
              "       [[561, 114]],\n",
              "\n",
              "       [[562, 114]],\n",
              "\n",
              "       [[563, 114]],\n",
              "\n",
              "       [[564, 114]],\n",
              "\n",
              "       [[565, 114]],\n",
              "\n",
              "       [[566, 113]],\n",
              "\n",
              "       [[566, 112]],\n",
              "\n",
              "       [[565, 112]]], dtype=int32)"
            ]
          },
          "metadata": {},
          "execution_count": 4
        }
      ]
    },
    {
      "cell_type": "markdown",
      "metadata": {
        "id": "ncMUDtL_-ABm"
      },
      "source": [
        "#### **What happens if we don't threshold? Bad things..**"
      ]
    },
    {
      "cell_type": "code",
      "metadata": {
        "id": "2EQ4V7AoRG-8",
        "colab": {
          "base_uri": "https://localhost:8080/",
          "height": 174
        },
        "outputId": "eadaa6a2-e2fb-4a52-b2fb-412224fae4e8"
      },
      "source": [
        "image = cv2.imread('images/LP.jpg')\n",
        "\n",
        "# Convert to Grayscale\n",
        "gray = cv2.cvtColor(image, cv2.COLOR_BGR2GRAY)\n",
        "imshow('After Grayscaling', gray)\n",
        "\n",
        "# Finding Contours\n",
        "contours, hierarchy = cv2.findContours(gray, cv2.RETR_LIST, cv2.CHAIN_APPROX_NONE)\n",
        "\n",
        "# Draw all contours, note this overwrites the input image (inplace operation)\n",
        "# Use '-1' as the 3rd parameter to draw all\n",
        "#cv2.drawContours(image, contours, -1, (0,255,0), thickness = 2)\n",
        "imshow('Contours overlaid on original image', image)\n",
        "\n",
        "print(\"Number of Contours found = \" + str(len(contours)))"
      ],
      "execution_count": 6,
      "outputs": [
        {
          "output_type": "display_data",
          "data": {
            "text/plain": [
              "<Figure size 146.25x720 with 1 Axes>"
            ],
            "image/png": "[encoded data removed]"
          },
          "metadata": {
            "needs_background": "light"
          }
        },
        {
          "output_type": "display_data",
          "data": {
            "text/plain": [
              "<Figure size 146.25x720 with 1 Axes>"
            ],
            "image/png": "[encoded data removed]"
          },
          "metadata": {
            "needs_background": "light"
          }
        },
        {
          "output_type": "stream",
          "name": "stdout",
          "text": [
            "Number of Contours found = 1\n"
          ]
        }
      ]
    },
    {
      "cell_type": "markdown",
      "metadata": {
        "id": "dCOMYIvuz_-1"
      },
      "source": [
        "# **NOTE: For findContours to work, the background has to be black and foreground (i.e. the text or objects)** \n",
        "\n",
        "#### Otherwise you'll need to invert the image by using **cv2..bitwise_not(input_image)**"
      ]
    },
    {
      "cell_type": "markdown",
      "metadata": {
        "id": "6v88ae8cACPN"
      },
      "source": [
        "#### **We can use Canny Edges instead of Thresholding**"
      ]
    },
    {
      "cell_type": "code",
      "metadata": {
        "id": "PkQ7P_WQw2R5",
        "colab": {
          "base_uri": "https://localhost:8080/",
          "height": 174
        },
        "outputId": "b15f1472-7d67-4eef-abfd-f8828801b93d"
      },
      "source": [
        "image = cv2.imread('images/LP.jpg')\n",
        "\n",
        "# Convert to Grayscale\n",
        "gray = cv2.cvtColor(image, cv2.COLOR_BGR2GRAY)\n",
        "\n",
        "# Canny Edges\n",
        "edged = cv2.Canny(gray, 30, 200)\n",
        "imshow('Canny Edges', edged)\n",
        "\n",
        "# Finding Contours\n",
        "contours, hierarchy = cv2.findContours(edged, cv2.RETR_LIST, cv2.CHAIN_APPROX_NONE)\n",
        "\n",
        "# Draw all contours, note this overwrites the input image (inplace operation)\n",
        "# Use '-1' as the 3rd parameter to draw all\n",
        "cv2.drawContours(image, contours, -1, (0,255,0), thickness = 2)\n",
        "imshow('Contours overlaid on original image', image)\n",
        "\n",
        "print(\"Number of Contours found = \" + str(len(contours)))\n"
      ],
      "execution_count": 8,
      "outputs": [
        {
          "output_type": "display_data",
          "data": {
            "text/plain": [
              "<Figure size 146.25x720 with 1 Axes>"
            ],
            "image/png": "[encoded data removed]"
          },
          "metadata": {
            "needs_background": "light"
          }
        },
        {
          "output_type": "display_data",
          "data": {
            "text/plain": [
              "<Figure size 146.25x720 with 1 Axes>"
            ],
            "image/png": "[encoded data removed]"
          },
          "metadata": {
            "needs_background": "light"
          }
        },
        {
          "output_type": "stream",
          "name": "stdout",
          "text": [
            "Number of Contours found = 77\n"
          ]
        }
      ]
    },
    {
      "cell_type": "markdown",
      "metadata": {
        "id": "B-a_luCqAHst"
      },
      "source": [
        "## **Remember these Countouring Steps**\n",
        "\n",
        "1. Grayscale\n",
        "2. Threshold or Canny Edge Detection to Binarize image\n",
        "\n",
        "**Note:** Blurring before Step 2 is recommended to remove noisy contours"
      ]
    },
    {
      "cell_type": "markdown",
      "metadata": {
        "id": "AtX6Ym0wAsAX"
      },
      "source": [
        "# **Retreival Modes** \n",
        "\n",
        "Official Doc - https://docs.opencv.org/master/d9/d8b/tutorial_py_contours_hierarchy.html\n",
        "\n",
        "**Hierachry**\n",
        "\n",
        "This array stores 4 values for each contour:\n",
        "- First term is the index of the Next contour\n",
        "- Second term is the index of the Previous contour\n",
        "- Third term is the index of the parent contour\n",
        "- Forth term is the index of the child contour"
      ]
    },
    {
      "cell_type": "markdown",
      "metadata": {
        "id": "fItsrDH-BRkv"
      },
      "source": [
        "### **RETR_LIST**\n",
        "Retrieves all the contours, but doesn't create any parent-child relationship. Parents and kids are equal under this rule, and they are just contours. ie they all belongs to same hierarchy level."
      ]
    },
    {
      "cell_type": "code",
      "metadata": {
        "id": "mIZimn_-_-ZR",
        "colab": {
          "base_uri": "https://localhost:8080/",
          "height": 864
        },
        "outputId": "e229280c-a5e9-4926-bdc7-06ce658a152e"
      },
      "source": [
        "image = cv2.imread('images/LP.jpg')\n",
        "\n",
        "# Convert to Grayscale\n",
        "gray = cv2.cvtColor(image, cv2.COLOR_BGR2GRAY)\n",
        "\n",
        "_, th2 = cv2.threshold(gray, 0, 255, cv2.THRESH_BINARY + cv2.THRESH_OTSU)\n",
        "imshow('After thresholding', th2)\n",
        "\n",
        "# Use a copy of your image e.g. edged.copy(), since findContours alters the image\n",
        "contours, hierarchy = cv2.findContours(th2, cv2.RETR_LIST, cv2.CHAIN_APPROX_NONE)\n",
        "\n",
        "# Draw all contours, note this overwrites the input image (inplace operation)\n",
        "# Use '-1' as the 3rd parameter to draw all\n",
        "cv2.drawContours(image, contours, -1, (0,255,0), thickness = 2)\n",
        "imshow('Contours overlaid on original image', image)\n",
        "\n",
        "print(\"Number of Contours found = \" + str(len(contours)))\n",
        "print(hierarchy)"
      ],
      "execution_count": null,
      "outputs": [
        {
          "output_type": "display_data",
          "data": {
            "image/png": "[encoded data removed]",
            "text/plain": [
              "<Figure size 146.25x720 with 1 Axes>"
            ]
          },
          "metadata": {
            "needs_background": "light"
          }
        },
        {
          "output_type": "display_data",
          "data": {
            "image/png": "[encoded data removed]",
            "text/plain": [
              "<Figure size 146.25x720 with 1 Axes>"
            ]
          },
          "metadata": {
            "needs_background": "light"
          }
        },
        {
          "output_type": "stream",
          "name": "stdout",
          "text": [
            "Number of Contours found = 38\n",
            "[[[ 1 -1 -1 -1]\n",
            "  [ 2  0 -1 -1]\n",
            "  [ 3  1 -1 -1]\n",
            "  [ 4  2 -1 -1]\n",
            "  [ 5  3 -1 -1]\n",
            "  [ 6  4 -1 -1]\n",
            "  [ 7  5 -1 -1]\n",
            "  [ 8  6 -1 -1]\n",
            "  [ 9  7 -1 -1]\n",
            "  [10  8 -1 -1]\n",
            "  [11  9 -1 -1]\n",
            "  [12 10 -1 -1]\n",
            "  [13 11 -1 -1]\n",
            "  [14 12 -1 -1]\n",
            "  [15 13 -1 -1]\n",
            "  [16 14 -1 -1]\n",
            "  [17 15 -1 -1]\n",
            "  [18 16 -1 -1]\n",
            "  [19 17 -1 -1]\n",
            "  [20 18 -1 -1]\n",
            "  [21 19 -1 -1]\n",
            "  [22 20 -1 -1]\n",
            "  [23 21 -1 -1]\n",
            "  [24 22 -1 -1]\n",
            "  [25 23 -1 -1]\n",
            "  [26 24 -1 -1]\n",
            "  [27 25 -1 -1]\n",
            "  [28 26 -1 -1]\n",
            "  [29 27 -1 -1]\n",
            "  [30 28 -1 -1]\n",
            "  [31 29 -1 -1]\n",
            "  [32 30 -1 -1]\n",
            "  [33 31 -1 -1]\n",
            "  [34 32 -1 -1]\n",
            "  [35 33 -1 -1]\n",
            "  [36 34 -1 -1]\n",
            "  [37 35 -1 -1]\n",
            "  [-1 36 -1 -1]]]\n"
          ]
        }
      ]
    },
    {
      "cell_type": "markdown",
      "metadata": {
        "id": "G4wHneN2BMKC"
      },
      "source": [
        "### **RETR_EXTERNAL**\n",
        "\n",
        "Returns only extreme outer flags. All child contours are left behind."
      ]
    },
    {
      "cell_type": "code",
      "metadata": {
        "id": "4GptFLEfA9XI",
        "colab": {
          "base_uri": "https://localhost:8080/",
          "height": 452
        },
        "outputId": "caa55e1e-357b-4e0c-e02a-0f476f281c97"
      },
      "source": [
        "image = cv2.imread('images/LP.jpg')\n",
        "\n",
        "# Convert to Grayscale\n",
        "gray = cv2.cvtColor(image, cv2.COLOR_BGR2GRAY)\n",
        "\n",
        "_, th2 = cv2.threshold(gray, 0, 255, cv2.THRESH_BINARY + cv2.THRESH_OTSU)\n",
        "imshow('After thresholding', th2)\n",
        "\n",
        "# Use a copy of your image e.g. edged.copy(), since findContours alters the image\n",
        "contours, hierarchy = cv2.findContours(th2, cv2.RETR_EXTERNAL, cv2.CHAIN_APPROX_NONE)\n",
        "\n",
        "# Draw all contours, note this overwrites the input image (inplace operation)\n",
        "# Use '-1' as the 3rd parameter to draw all\n",
        "cv2.drawContours(image, contours, -1, (0,255,0), thickness = 2)\n",
        "imshow('Contours overlaid on original image', image, size = 10)\n",
        "\n",
        "print(\"Number of Contours found = \" + str(len(contours)))\n",
        "print(hierarchy)"
      ],
      "execution_count": 9,
      "outputs": [
        {
          "output_type": "display_data",
          "data": {
            "text/plain": [
              "<Figure size 146.25x720 with 1 Axes>"
            ],
            "image/png": "[encoded data removed]"
          },
          "metadata": {
            "needs_background": "light"
          }
        },
        {
          "output_type": "display_data",
          "data": {
            "text/plain": [
              "<Figure size 146.25x720 with 1 Axes>"
            ],
            "image/png": "[encoded data removed]"
          },
          "metadata": {
            "needs_background": "light"
          }
        },
        {
          "output_type": "stream",
          "name": "stdout",
          "text": [
            "Number of Contours found = 16\n",
            "[[[ 1 -1 -1 -1]\n",
            "  [ 2  0 -1 -1]\n",
            "  [ 3  1 -1 -1]\n",
            "  [ 4  2 -1 -1]\n",
            "  [ 5  3 -1 -1]\n",
            "  [ 6  4 -1 -1]\n",
            "  [ 7  5 -1 -1]\n",
            "  [ 8  6 -1 -1]\n",
            "  [ 9  7 -1 -1]\n",
            "  [10  8 -1 -1]\n",
            "  [11  9 -1 -1]\n",
            "  [12 10 -1 -1]\n",
            "  [13 11 -1 -1]\n",
            "  [14 12 -1 -1]\n",
            "  [15 13 -1 -1]\n",
            "  [-1 14 -1 -1]]]\n"
          ]
        }
      ]
    },
    {
      "cell_type": "markdown",
      "metadata": {
        "id": "iTeiBX4jBcUW"
      },
      "source": [
        "### **RETR_CCOMP**\n",
        "\n",
        "Retrieves all the contours and arranges them to a 2-level hierarchy. ie external contours of the object (ie its boundary) are placed in hierarchy-1. And the contours of holes inside object (if any) is placed in hierarchy-2. If any object inside it, its contour is placed again in hierarchy-1 only. And its hole in hierarchy-2 and so on."
      ]
    },
    {
      "cell_type": "code",
      "metadata": {
        "id": "hsJwfUlxBEYq",
        "colab": {
          "base_uri": "https://localhost:8080/",
          "height": 834
        },
        "outputId": "11db805d-03b4-471d-f7f5-9d1269af1bb0"
      },
      "source": [
        "image = cv2.imread('images/LP.jpg')\n",
        "\n",
        "# Convert to Grayscale\n",
        "gray = cv2.cvtColor(image, cv2.COLOR_BGR2GRAY)\n",
        "\n",
        "_, th2 = cv2.threshold(gray, 0, 255, cv2.THRESH_BINARY + cv2.THRESH_OTSU)\n",
        "imshow('After thresholding', th2)\n",
        "\n",
        "# Use a copy of your image e.g. edged.copy(), since findContours alters the image\n",
        "contours, hierarchy = cv2.findContours(th2, cv2.RETR_CCOMP, cv2.CHAIN_APPROX_NONE)\n",
        "\n",
        "# Draw all contours, note this overwrites the input image (inplace operation)\n",
        "# Use '-1' as the 3rd parameter to draw all\n",
        "cv2.drawContours(image, contours, -1, (0,255,0), thickness = 2)\n",
        "imshow('Contours overlaid on original image', image)\n",
        "\n",
        "print(\"Number of Contours found = \" + str(len(contours)))\n",
        "print(hierarchy)"
      ],
      "execution_count": 10,
      "outputs": [
        {
          "output_type": "display_data",
          "data": {
            "text/plain": [
              "<Figure size 146.25x720 with 1 Axes>"
            ],
            "image/png": "[encoded data removed]"
          },
          "metadata": {
            "needs_background": "light"
          }
        },
        {
          "output_type": "display_data",
          "data": {
            "text/plain": [
              "<Figure size 146.25x720 with 1 Axes>"
            ],
            "image/png": "[encoded data removed]"
          },
          "metadata": {
            "needs_background": "light"
          }
        },
        {
          "output_type": "stream",
          "name": "stdout",
          "text": [
            "Number of Contours found = 38\n",
            "[[[ 1 -1 -1 -1]\n",
            "  [ 2  0 -1 -1]\n",
            "  [ 3  1 -1 -1]\n",
            "  [ 4  2 -1 -1]\n",
            "  [ 5  3 -1 -1]\n",
            "  [ 6  4 -1 -1]\n",
            "  [ 7  5 -1 -1]\n",
            "  [ 8  6 -1 -1]\n",
            "  [ 9  7 -1 -1]\n",
            "  [10  8 -1 -1]\n",
            "  [17  9 11 -1]\n",
            "  [12 -1 -1 10]\n",
            "  [13 11 -1 10]\n",
            "  [14 12 -1 10]\n",
            "  [15 13 -1 10]\n",
            "  [16 14 -1 10]\n",
            "  [-1 15 -1 10]\n",
            "  [25 10 18 -1]\n",
            "  [19 -1 -1 17]\n",
            "  [20 18 -1 17]\n",
            "  [21 19 -1 17]\n",
            "  [22 20 -1 17]\n",
            "  [23 21 -1 17]\n",
            "  [24 22 -1 17]\n",
            "  [-1 23 -1 17]\n",
            "  [32 17 26 -1]\n",
            "  [27 -1 -1 25]\n",
            "  [28 26 -1 25]\n",
            "  [29 27 -1 25]\n",
            "  [30 28 -1 25]\n",
            "  [31 29 -1 25]\n",
            "  [-1 30 -1 25]\n",
            "  [35 25 33 -1]\n",
            "  [34 -1 -1 32]\n",
            "  [-1 33 -1 32]\n",
            "  [36 32 -1 -1]\n",
            "  [-1 35 37 -1]\n",
            "  [-1 -1 -1 36]]]\n"
          ]
        }
      ]
    },
    {
      "cell_type": "markdown",
      "metadata": {
        "id": "8xHjHnlHBi-k"
      },
      "source": [
        "### **RETR_TREE**\n",
        "It retrieves all the contours and creates a full family hierarchy list."
      ]
    },
    {
      "cell_type": "code",
      "metadata": {
        "id": "HXOyW6kfBngk",
        "colab": {
          "base_uri": "https://localhost:8080/",
          "height": 834
        },
        "outputId": "189f8e41-5ca6-439e-a620-8d152497499e"
      },
      "source": [
        "image = cv2.imread('images/LP.jpg')\n",
        "\n",
        "# Convert to Grayscale\n",
        "gray = cv2.cvtColor(image, cv2.COLOR_BGR2GRAY)\n",
        "\n",
        "_, th2 = cv2.threshold(gray, 0, 255, cv2.THRESH_BINARY + cv2.THRESH_OTSU)\n",
        "imshow('After thresholding', th2)\n",
        "\n",
        "# Use a copy of your image e.g. edged.copy(), since findContours alters the image\n",
        "contours, hierarchy = cv2.findContours(th2, cv2.RETR_TREE, cv2.CHAIN_APPROX_NONE)\n",
        "\n",
        "# Draw all contours, note this overwrites the input image (inplace operation)\n",
        "# Use '-1' as the 3rd parameter to draw all\n",
        "cv2.drawContours(image, contours, -1, (0,255,0), thickness = 2)\n",
        "imshow('Contours overlaid on original image', image)\n",
        "\n",
        "print(\"Number of Contours found = \" + str(len(contours)))\n",
        "print(hierarchy)"
      ],
      "execution_count": 11,
      "outputs": [
        {
          "output_type": "display_data",
          "data": {
            "text/plain": [
              "<Figure size 146.25x720 with 1 Axes>"
            ],
            "image/png": "[encoded data removed]"
          },
          "metadata": {
            "needs_background": "light"
          }
        },
        {
          "output_type": "display_data",
          "data": {
            "text/plain": [
              "<Figure size 146.25x720 with 1 Axes>"
            ],
            "image/png": "[encoded data removed]"
          },
          "metadata": {
            "needs_background": "light"
          }
        },
        {
          "output_type": "stream",
          "name": "stdout",
          "text": [
            "Number of Contours found = 38\n",
            "[[[ 1 -1 -1 -1]\n",
            "  [ 2  0 -1 -1]\n",
            "  [ 3  1 -1 -1]\n",
            "  [ 4  2 -1 -1]\n",
            "  [ 5  3 -1 -1]\n",
            "  [ 6  4 -1 -1]\n",
            "  [ 7  5 -1 -1]\n",
            "  [ 8  6 -1 -1]\n",
            "  [ 9  7 -1 -1]\n",
            "  [10  8 -1 -1]\n",
            "  [17  9 11 -1]\n",
            "  [12 -1 -1 10]\n",
            "  [13 11 -1 10]\n",
            "  [14 12 -1 10]\n",
            "  [15 13 -1 10]\n",
            "  [16 14 -1 10]\n",
            "  [-1 15 -1 10]\n",
            "  [25 10 18 -1]\n",
            "  [19 -1 -1 17]\n",
            "  [20 18 -1 17]\n",
            "  [21 19 -1 17]\n",
            "  [22 20 -1 17]\n",
            "  [23 21 -1 17]\n",
            "  [24 22 -1 17]\n",
            "  [-1 23 -1 17]\n",
            "  [32 17 26 -1]\n",
            "  [27 -1 -1 25]\n",
            "  [28 26 -1 25]\n",
            "  [29 27 -1 25]\n",
            "  [30 28 -1 25]\n",
            "  [31 29 -1 25]\n",
            "  [-1 30 -1 25]\n",
            "  [35 25 33 -1]\n",
            "  [34 -1 -1 32]\n",
            "  [-1 33 -1 32]\n",
            "  [36 32 -1 -1]\n",
            "  [-1 35 37 -1]\n",
            "  [-1 -1 -1 36]]]\n"
          ]
        }
      ]
    },
    {
      "cell_type": "markdown",
      "metadata": {
        "id": "mflMwnhiFiK9"
      },
      "source": [
        "## **Contouring Modes**\n",
        "\n",
        "#### **CHAIN_APPROX_NONE**"
      ]
    },
    {
      "cell_type": "code",
      "metadata": {
        "id": "rAczGb7QFAXq",
        "colab": {
          "base_uri": "https://localhost:8080/",
          "height": 834
        },
        "outputId": "dcabf531-1d74-4c6e-c9fc-1fe52198a613"
      },
      "source": [
        "image = cv2.imread('images/LP.jpg')\n",
        "\n",
        "# Convert to Grayscale\n",
        "gray = cv2.cvtColor(image, cv2.COLOR_BGR2GRAY)\n",
        "\n",
        "_, th2 = cv2.threshold(gray, 0, 255, cv2.THRESH_BINARY + cv2.THRESH_OTSU)\n",
        "imshow('After thresholding', th2)\n",
        "\n",
        "# Use a copy of your image e.g. edged.copy(), since findContours alters the image\n",
        "contours, hierarchy = cv2.findContours(th2, cv2.RETR_TREE, cv2.CHAIN_APPROX_NONE)\n",
        "\n",
        "# Draw all contours, note this overwrites the input image (inplace operation)\n",
        "# Use '-1' as the 3rd parameter to draw all\n",
        "cv2.drawContours(image, contours, -1, (0,255,0), thickness = 2)\n",
        "imshow('Contours overlaid on original image', image)\n",
        "\n",
        "print(\"Number of Contours found = \" + str(len(contours)))\n",
        "for c in contours:\n",
        "  print(len(c))"
      ],
      "execution_count": 12,
      "outputs": [
        {
          "output_type": "display_data",
          "data": {
            "text/plain": [
              "<Figure size 146.25x720 with 1 Axes>"
            ],
            "image/png": "[encoded data removed]"
          },
          "metadata": {
            "needs_background": "light"
          }
        },
        {
          "output_type": "display_data",
          "data": {
            "text/plain": [
              "<Figure size 146.25x720 with 1 Axes>"
            ],
            "image/png": "[encoded data removed]"
          },
          "metadata": {
            "needs_background": "light"
          }
        },
        {
          "output_type": "stream",
          "name": "stdout",
          "text": [
            "Number of Contours found = 38\n",
            "87\n",
            "50\n",
            "7\n",
            "1\n",
            "1\n",
            "1\n",
            "1\n",
            "4\n",
            "2\n",
            "1\n",
            "236\n",
            "80\n",
            "6\n",
            "75\n",
            "10\n",
            "4\n",
            "8\n",
            "426\n",
            "6\n",
            "4\n",
            "4\n",
            "10\n",
            "14\n",
            "21\n",
            "17\n",
            "241\n",
            "6\n",
            "14\n",
            "15\n",
            "155\n",
            "14\n",
            "9\n",
            "358\n",
            "4\n",
            "4\n",
            "347\n",
            "272\n",
            "92\n"
          ]
        }
      ]
    },
    {
      "cell_type": "markdown",
      "metadata": {
        "id": "thSvWAyFFuHr"
      },
      "source": [
        "\n",
        "#### **CHAIN_APPROX_SIMPLE**"
      ]
    },
    {
      "cell_type": "code",
      "metadata": {
        "id": "v2KUnN6tFo4g",
        "colab": {
          "base_uri": "https://localhost:8080/",
          "height": 834
        },
        "outputId": "bb7a1058-b246-4aa7-8229-6bbe3a3d6415"
      },
      "source": [
        "image = cv2.imread('images/LP.jpg')\n",
        "\n",
        "# Convert to Grayscale\n",
        "gray = cv2.cvtColor(image, cv2.COLOR_BGR2GRAY)\n",
        "\n",
        "_, th2 = cv2.threshold(gray, 0, 255, cv2.THRESH_BINARY + cv2.THRESH_OTSU)\n",
        "imshow('After thresholding', th2)\n",
        "\n",
        "# Use a copy of your image e.g. edged.copy(), since findContours alters the image\n",
        "contours, hierarchy = cv2.findContours(th2, cv2.RETR_TREE, cv2.CHAIN_APPROX_SIMPLE)\n",
        "\n",
        "# Draw all contours, note this overwrites the input image (inplace operation)\n",
        "# Use '-1' as the 3rd parameter to draw all\n",
        "cv2.drawContours(image, contours, -1, (0,255,0), thickness = 2)\n",
        "imshow('Contours overlaid on original image', image)\n",
        "\n",
        "print(\"Number of Contours found = \" + str(len(contours)))\n",
        "for c in contours:\n",
        "  print(len(c))"
      ],
      "execution_count": 13,
      "outputs": [
        {
          "output_type": "display_data",
          "data": {
            "text/plain": [
              "<Figure size 146.25x720 with 1 Axes>"
            ],
            "image/png": "[encoded data removed]"
          },
          "metadata": {
            "needs_background": "light"
          }
        },
        {
          "output_type": "display_data",
          "data": {
            "text/plain": [
              "<Figure size 146.25x720 with 1 Axes>"
            ],
            "image/png": "[encoded data removed]"
          },
          "metadata": {
            "needs_background": "light"
          }
        },
        {
          "output_type": "stream",
          "name": "stdout",
          "text": [
            "Number of Contours found = 38\n",
            "8\n",
            "10\n",
            "7\n",
            "1\n",
            "1\n",
            "1\n",
            "1\n",
            "4\n",
            "2\n",
            "1\n",
            "114\n",
            "40\n",
            "6\n",
            "37\n",
            "6\n",
            "4\n",
            "8\n",
            "172\n",
            "6\n",
            "4\n",
            "4\n",
            "6\n",
            "6\n",
            "15\n",
            "11\n",
            "121\n",
            "6\n",
            "6\n",
            "8\n",
            "57\n",
            "8\n",
            "7\n",
            "170\n",
            "4\n",
            "4\n",
            "164\n",
            "65\n",
            "27\n"
          ]
        }
      ]
    }
  ]
}